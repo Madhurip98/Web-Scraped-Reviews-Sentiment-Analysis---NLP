{
 "cells": [
  {
   "cell_type": "code",
   "execution_count": 9,
   "metadata": {},
   "outputs": [],
   "source": [
    "import requests\n",
    "from bs4 import BeautifulSoup\n",
    "import pandas as pd"
   ]
  },
  {
   "cell_type": "code",
   "execution_count": 10,
   "metadata": {},
   "outputs": [],
   "source": [
    "\n",
    "URL = \"\"\n",
    "Final = []\n",
    "for x in range(0, 14):\n",
    "    if x == 1:\n",
    "        URL = \"https://www.mouthshut.com/product-reviews/Kotak-811-Mobile-Banking-reviews-925917218\"\n",
    "\n",
    "    else:\n",
    "        URL =\"https://www.mouthshut.com/product-reviews/Kotak-811-Mobile-Banking-reviews-925917218-page-{}\".format(x)\n",
    "\n",
    "    r = requests.get(URL)\n",
    "    soup = BeautifulSoup(r.content, 'html.parser')\n",
    "    reviews = []  # a list to store reviews\n",
    "\n",
    "    # Use a CSS selector to extract all the review containers\n",
    "    review_divs = soup.select('div.col-10.review')\n",
    "    for element in review_divs :\n",
    "\n",
    "        review = { 'Review': element .find('div', {'class': ['more', 'reviewdata']}).text.strip(), 'Stars' : len(element.find('div', \"rating\").findAll(\"i\", \"rated-star\"))}\n",
    "        reviews.append(review)\n",
    "\n",
    "    Final.extend(reviews)\n",
    "\n"
   ]
  },
  {
   "cell_type": "code",
   "execution_count": 11,
   "metadata": {},
   "outputs": [],
   "source": [
    "df = pd.DataFrame(Final)"
   ]
  },
  {
   "cell_type": "code",
   "execution_count": 12,
   "metadata": {},
   "outputs": [],
   "source": [
    "df.to_csv('scraped_review.csv', index=False)"
   ]
  },
  {
   "cell_type": "code",
   "execution_count": null,
   "metadata": {},
   "outputs": [],
   "source": []
  }
 ],
 "metadata": {
  "kernelspec": {
   "display_name": "Python 3",
   "language": "python",
   "name": "python3"
  },
  "language_info": {
   "codemirror_mode": {
    "name": "ipython",
    "version": 3
   },
   "file_extension": ".py",
   "mimetype": "text/x-python",
   "name": "python",
   "nbconvert_exporter": "python",
   "pygments_lexer": "ipython3",
   "version": "3.8.5"
  }
 },
 "nbformat": 4,
 "nbformat_minor": 4
}
